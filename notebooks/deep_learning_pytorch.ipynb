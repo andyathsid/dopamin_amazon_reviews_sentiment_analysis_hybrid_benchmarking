{
 "cells": [
  {
   "cell_type": "code",
   "execution_count": 1,
   "metadata": {},
   "outputs": [],
   "source": [
    "import sys\n",
    "from pathlib import Path\n",
    "\n",
    "project_root = Path().resolve().parent \n",
    "sys.path.append(str(project_root))"
   ]
  },
  {
   "cell_type": "code",
   "execution_count": 2,
   "metadata": {},
   "outputs": [
    {
     "name": "stdout",
     "output_type": "stream",
     "text": [
      "train.csv sudah ada\n",
      "test.csv sudah ada\n",
      "Lokasi cache (kalo dihapus bakal redownload terus): C:\\Users\\Andakara\\.cache\\kagglehub\\datasets\\kritanjalijain\\amazon-reviews\\versions\\2\n"
     ]
    }
   ],
   "source": [
    "from scripts.utilities.local_dataset_download import download_dataset\n",
    "\n",
    "download_dataset()"
   ]
  }
 ],
 "metadata": {
  "kernelspec": {
   "display_name": ".fesmaro-2025-competition-venv",
   "language": "python",
   "name": "python3"
  },
  "language_info": {
   "codemirror_mode": {
    "name": "ipython",
    "version": 3
   },
   "file_extension": ".py",
   "mimetype": "text/x-python",
   "name": "python",
   "nbconvert_exporter": "python",
   "pygments_lexer": "ipython3",
   "version": "3.13.1"
  }
 },
 "nbformat": 4,
 "nbformat_minor": 2
}
